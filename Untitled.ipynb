{
 "cells": [
  {
   "cell_type": "markdown",
   "id": "3dfbbb1c",
   "metadata": {},
   "source": [
    "# Fundamentos de Python para el aprendizaje automático\n",
    "\n",
    "Este cuaderno cubrira los siguientes temas:\n",
    "- [Introduccion](#introduccion)\n",
    "- [Visualizacion de datos](#Visualizacion)\n",
    "- [Algebra lineal](#AlgebraLineal)\n",
    "- [Feature engineering](#FeatureEngineering)\n",
    "- [Machine Learning](#ML)\n"
   ]
  },
  {
   "cell_type": "markdown",
   "id": "97902dbd",
   "metadata": {},
   "source": [
    "<a name='introduccion'></a>\n",
    "# Introducción a Temas Clave en Machine Learning\n",
    "\n",
    "Machine Learning es una disciplina que se encuentra en el corazón de numerosas aplicaciones modernas, desde sistemas de recomendación hasta coches autónomos. Python es uno de los lenguajes más utilizados en este campo, debido a su sencillez y la abundancia de bibliotecas especializadas.\n",
    "\n",
    "A lo largo de nuestro estudio, exploraremos los siguientes temas clave:\n",
    "\n",
    "## Visualización de Datos\n",
    "La visualización de datos es esencial para entender nuestros datasets. Nos permite detectar patrones, identificar anomalías y validar modelos. Con bibliotecas como Matplotlib y Seaborn, podemos crear gráficos y visualizaciones detalladas y personalizables.\n",
    "\n",
    "## Álgebra Lineal\n",
    "El Álgebra Lineal es la base de muchas técnicas y algoritmos de Machine Learning. Conceptos como vectores, matrices y operaciones entre ellos son fundamentales para entender y aplicar estos algoritmos. La biblioteca Numpy nos proporciona las herramientas para trabajar con estos conceptos en Python.\n",
    "\n",
    "## Feature Engineering\n",
    "Feature Engineering es el proceso de transformar los datos brutos en características que mejor representen el problema a los algoritmos de Machine Learning, mejorando así su rendimiento. Pandas es una biblioteca muy útil para esta tarea, permitiéndonos manipular datos fácilmente.\n",
    "\n",
    "## Machine Learning\n",
    "El Machine Learning nos permite aprender de los datos y hacer predicciones o decisiones sin ser explícitamente programados para hacerlo. Es una parte fundamental de muchas aplicaciones modernas. Sklearn es una de las bibliotecas más populares para Machine Learning en Python, proporcionando una gran variedad de algoritmos y herramientas.\n",
    "\n",
    "A lo largo de este curso, utilizaremos los siguientes módulos de Python:\n",
    "\n",
    "- Numpy: para manipulación de matrices y operaciones de álgebra lineal.\n",
    "- Pandas: para manipulación de datos y feature engineering.\n",
    "- Matplotlib y Seaborn: para la visualización de datos.\n",
    "- Scipy: para tareas científicas y técnicas.\n",
    "- Sklearn: para aplicar técnicas y algoritmos de Machine Learning.\n",
    "\n",
    "Aunque cada uno de estos temas puede ser una disciplina en sí misma, juntos forman las habilidades fundamentales que necesita un practicante de Machine Learning. Al dominar estos temas, estarás bien preparado para adentrarte en el emocionante campo del Machine Learning.\n"
   ]
  },
  {
   "cell_type": "markdown",
   "id": "0c08f405",
   "metadata": {},
   "source": [
    "<a name='Visualizacion'></a>\n",
    "# Visualización de datos \n",
    "## Importancia de la Visualización de Datos en Machine Learning\n",
    "\n",
    "La visualización de datos es un componente fundamental en el campo del Machine Learning. \n",
    "Permite entender mejor los datos con los que estamos trabajando, detectar patrones, identificar anomalías y \n",
    "validar nuestras hipótesis. La visualización es una herramienta poderosa para la exploración y análisis de datos, \n",
    "así como para la presentación de los resultados de nuestras predicciones y modelos de Machine Learning.\n",
    "\n",
    "### ¿Por qué utilizar Matplotlib, Pandas, Seaborn y Numpy?\n",
    "\n",
    "Python es uno de los lenguajes de programación más utilizados en el campo del Machine Learning, en gran parte debido a su ecosistema de bibliotecas y módulos robustos y versátiles. Entre ellos, Matplotlib, Pandas, Seaborn y Numpy destacan por su utilidad en el manejo, análisis y visualización de datos.\n",
    "\n",
    "- **Numpy:** Es la biblioteca fundamental para la computación científica con Python. Proporciona un objeto de matriz multidimensional y herramientas para trabajar con estas matrices.\n",
    "\n",
    "- **Pandas:** Es una biblioteca que proporciona estructuras de datos y funciones de alto nivel para facilitar la manipulación y análisis de datos. Pandas se integra bien con otras bibliotecas de Python como Numpy y Matplotlib.\n",
    "\n",
    "- **Matplotlib:** Es la biblioteca de trazado más utilizada en Python. Permite crear una gran variedad de gráficos y visualizaciones con control completo sobre los estilos y propiedades de los gráficos.\n",
    "\n",
    "- **Seaborn:** Basado en Matplotlib, Seaborn proporciona una interfaz de alto nivel para crear gráficos estadísticos atractivos. Seaborn trabaja bien con los DataFrames de Pandas, lo que facilita la visualización de datos.\n",
    "\n",
    "Estas bibliotecas juntas forman una poderosa caja de herramientas para cualquier científico de datos o profesional de Machine Learning.\n"
   ]
  },
  {
   "cell_type": "code",
   "execution_count": 1,
   "id": "d39c18a8",
   "metadata": {},
   "outputs": [],
   "source": [
    "# importamos los modulos que vamos a necesitar \n",
    "import matplotlib.pyplot as plt\n",
    "import pandas as pd\n",
    "import seaborn as sns\n",
    "import numpy as np\n",
    "\n",
    "plt.rcParams['figure.figsize'] = [10, 8] # Opcional: seteamos el tamaño de las imagenes\n",
    "# para visualizar los gráficos dentro de la notebook \n",
    "%matplotlib inline "
   ]
  },
  {
   "cell_type": "markdown",
   "id": "239d38cb",
   "metadata": {},
   "source": [
    "### Aleatoriedad\n",
    "Cuando lidiamos con data, siempre es importante tener a manos maneras de generar numeros aleatorios, ya sea para elegir muestras y no generar sesgos, o por otra razón. En python, tenemos modulos específicos para hacer eso, pero también dentro de numpy tenemos el submodulo random. "
   ]
  },
  {
   "cell_type": "code",
   "execution_count": 2,
   "id": "29d6ba91",
   "metadata": {},
   "outputs": [],
   "source": [
    "# Simular el lanzamiento de un dado\n",
    "die_faces = [1,2,3,4,5,6]\n",
    "\n",
    "# Creemos un generador aleatorio. El valor `seed` \n",
    "# es un número utilizado para inicializar un generador de \n",
    "# números pseudoaleatorios. Nos permitirá obtener resultados\n",
    "# reproducibles si queremos ejecutar el experimento de nuevo.\n",
    "rng = np.random.RandomState(seed=1)\n"
   ]
  },
  {
   "cell_type": "code",
   "execution_count": 3,
   "id": "c3377308",
   "metadata": {},
   "outputs": [
    {
     "data": {
      "text/plain": [
       "array([6])"
      ]
     },
     "execution_count": 3,
     "metadata": {},
     "output_type": "execute_result"
    }
   ],
   "source": [
    "# Elegimos al azar uno de los dados del dado ... \n",
    "choice = rng.choice(die_faces, size=1)\n",
    "choice"
   ]
  },
  {
   "cell_type": "markdown",
   "id": "e455a628",
   "metadata": {},
   "source": [
    "### seaborn y pyplot \n",
    "Podemos pasar todo el dia viendo las distintas cosas que se pueden hacer con seaborn y pyplot, pero usemos el poder de google, y por que no, de chatGPT (u otros LLMs). Como guia genera, aqui estan algunas de las funcionalidades básicas de seaborn: \n",
    "[seaborn](https://seaborn.pydata.org/tutorial/introduction.html)\n"
   ]
  },
  {
   "cell_type": "code",
   "execution_count": 4,
   "id": "0b603652",
   "metadata": {},
   "outputs": [
    {
     "data": {
      "image/png": "[encoded data removed]",
      "text/plain": [
       "<Figure size 432x288 with 1 Axes>"
      ]
     },
     "metadata": {
      "needs_background": "light"
     },
     "output_type": "display_data"
    }
   ],
   "source": [
    "# Distribucion de probabilidad teorica para un dado\n",
    "sns.histplot([1,2,3,4,5,6], bins=list(range(1,8)), stat='probability').set_title(f'Probability Distribution')\n",
    "plt.show()"
   ]
  },
  {
   "cell_type": "code",
   "execution_count": 5,
   "id": "ac92bd7e",
   "metadata": {},
   "outputs": [
    {
     "name": "stdout",
     "output_type": "stream",
     "text": [
      "Generamos un objeto de tipo <class 'numpy.ndarray'>\n",
      "Cuyos valores son los siguientes:\n",
      "[6 4 5 1 2 4 6 1 1 2 5 6 5 2 3 5 6 3 5 4 5 3 5 6 3 5 2 2 1 6 2 2 6 2 2 1 5\n",
      " 2 1 1 6 4 3 2 1 4 6 2 2 4 5 1 2 4 5 3 5 1 6 4 2 3 1 5 2 3 3 2 1 2 4 6 5 4\n",
      " 6 2 4 1 1 3 3 2 4 5 3 1 1 2 2 6 4 1 1 6 6 5 6 3 5 4]\n"
     ]
    }
   ],
   "source": [
    "# Generamos una distribucion de 100 muestras\n",
    "rng = np.random.RandomState(seed=1)\n",
    "num_samples = 100\n",
    "x = rng.choice([1,2,3,4,5,6], num_samples)\n",
    "print(f\"Generamos un objeto de tipo {type(x)}\")\n",
    "print(\"Cuyos valores son los siguientes:\")\n",
    "print(x)"
   ]
  },
  {
   "cell_type": "code",
   "execution_count": 6,
   "id": "cc6b445c",
   "metadata": {},
   "outputs": [
    {
     "data": {
      "image/png": "[encoded data removed]",
      "text/plain": [
       "<Figure size 432x288 with 1 Axes>"
      ]
     },
     "metadata": {
      "needs_background": "light"
     },
     "output_type": "display_data"
    }
   ],
   "source": [
    "# Ahora les damos esos datos empiricos a sns.histoplot. Estamos reemplazando la lista \"teorica\": [1,2,3,4,5,6]\n",
    "# con la lista generada\n",
    "sns.histplot(x, bins=list(range(1,8)), stat='probability').set_title(f'Distribution from {num_samples} samples')\n",
    "plt.show()"
   ]
  },
  {
   "cell_type": "markdown",
   "id": "14c12b1f",
   "metadata": {},
   "source": [
    "Pueden probar generando varias veces, y jueguen con el numero de parametros. Mientras menos tenemos, mas azarozo sera. "
   ]
  },
  {
   "cell_type": "code",
   "execution_count": 7,
   "id": "22f39e7e",
   "metadata": {},
   "outputs": [
    {
     "data": {
      "image/png": "[encoded data removed]",
      "text/plain": [
       "<Figure size 432x288 with 1 Axes>"
      ]
     },
     "metadata": {
      "needs_background": "light"
     },
     "output_type": "display_data"
    }
   ],
   "source": [
    "# 100000 muestras\n",
    "rng = np.random.RandomState(seed=1)\n",
    "num_samples = 100000\n",
    "x = rng.choice([1,2,3,4,5,6], num_samples)\n",
    "sns.histplot(x, bins=list(range(1,8)), stat='probability').set_title(f'Distribution from {num_samples} samples')\n",
    "plt.show()\n"
   ]
  },
  {
   "cell_type": "markdown",
   "id": "aba39e0f",
   "metadata": {},
   "source": [
    "Aqui el histograma se parece mas al contenido \"teorico\" "
   ]
  },
  {
   "cell_type": "markdown",
   "id": "25c39047",
   "metadata": {},
   "source": [
    "### Un ejemplo con datos reales\n",
    "#### Pandas\n",
    "El objeto escencial que van a usar en pandas es el \"dataframe\". Esto lo vamos a utilizar para visualizar y explorar datos. \n",
    "Pueden pensar en un dataframe como una tabla, compuesta por columnas, que son \"series\", que es el segundo objeto mas utilizado en pandas. \n",
    "En el caso que van a ver, \"Home\", \"Price\", \"SqFt\", \"Bedrooms\", \"Bathrooms\", \"Offers\", \"Brick, y \"Neighborhood\" son las series. \n",
    "Cada serie tiene un \"tipo\" Python (es decir, pueden ser numeros, o caracteres, u otra cosa, pero no una mezcla)"
   ]
  },
  {
   "cell_type": "markdown",
   "id": "e9b94466",
   "metadata": {},
   "source": [
    "### "
   ]
  },
  {
   "cell_type": "code",
   "execution_count": 8,
   "id": "99f9028f",
   "metadata": {},
   "outputs": [
    {
     "data": {
      "text/html": [
       "<div>\n",
       "<style scoped>\n",
       "    .dataframe tbody tr th:only-of-type {\n",
       "        vertical-align: middle;\n",
       "    }\n",
       "\n",
       "    .dataframe tbody tr th {\n",
       "        vertical-align: top;\n",
       "    }\n",
       "\n",
       "    .dataframe thead th {\n",
       "        text-align: right;\n",
       "    }\n",
       "</style>\n",
       "<table border=\"1\" class=\"dataframe\">\n",
       "  <thead>\n",
       "    <tr style=\"text-align: right;\">\n",
       "      <th></th>\n",
       "      <th>Home</th>\n",
       "      <th>Price</th>\n",
       "      <th>SqFt</th>\n",
       "      <th>Bedrooms</th>\n",
       "      <th>Bathrooms</th>\n",
       "      <th>Offers</th>\n",
       "      <th>Brick</th>\n",
       "      <th>Neighborhood</th>\n",
       "    </tr>\n",
       "  </thead>\n",
       "  <tbody>\n",
       "    <tr>\n",
       "      <th>0</th>\n",
       "      <td>1</td>\n",
       "      <td>114300</td>\n",
       "      <td>1790</td>\n",
       "      <td>2</td>\n",
       "      <td>2</td>\n",
       "      <td>2</td>\n",
       "      <td>No</td>\n",
       "      <td>East</td>\n",
       "    </tr>\n",
       "    <tr>\n",
       "      <th>1</th>\n",
       "      <td>2</td>\n",
       "      <td>114200</td>\n",
       "      <td>2030</td>\n",
       "      <td>4</td>\n",
       "      <td>2</td>\n",
       "      <td>3</td>\n",
       "      <td>No</td>\n",
       "      <td>East</td>\n",
       "    </tr>\n",
       "    <tr>\n",
       "      <th>2</th>\n",
       "      <td>3</td>\n",
       "      <td>114800</td>\n",
       "      <td>1740</td>\n",
       "      <td>3</td>\n",
       "      <td>2</td>\n",
       "      <td>1</td>\n",
       "      <td>No</td>\n",
       "      <td>East</td>\n",
       "    </tr>\n",
       "    <tr>\n",
       "      <th>3</th>\n",
       "      <td>4</td>\n",
       "      <td>94700</td>\n",
       "      <td>1980</td>\n",
       "      <td>3</td>\n",
       "      <td>2</td>\n",
       "      <td>3</td>\n",
       "      <td>No</td>\n",
       "      <td>East</td>\n",
       "    </tr>\n",
       "    <tr>\n",
       "      <th>4</th>\n",
       "      <td>5</td>\n",
       "      <td>119800</td>\n",
       "      <td>2130</td>\n",
       "      <td>3</td>\n",
       "      <td>3</td>\n",
       "      <td>3</td>\n",
       "      <td>No</td>\n",
       "      <td>East</td>\n",
       "    </tr>\n",
       "    <tr>\n",
       "      <th>5</th>\n",
       "      <td>6</td>\n",
       "      <td>114600</td>\n",
       "      <td>1780</td>\n",
       "      <td>3</td>\n",
       "      <td>2</td>\n",
       "      <td>2</td>\n",
       "      <td>No</td>\n",
       "      <td>North</td>\n",
       "    </tr>\n",
       "    <tr>\n",
       "      <th>6</th>\n",
       "      <td>7</td>\n",
       "      <td>151600</td>\n",
       "      <td>1830</td>\n",
       "      <td>3</td>\n",
       "      <td>3</td>\n",
       "      <td>3</td>\n",
       "      <td>Yes</td>\n",
       "      <td>West</td>\n",
       "    </tr>\n",
       "    <tr>\n",
       "      <th>7</th>\n",
       "      <td>8</td>\n",
       "      <td>150700</td>\n",
       "      <td>2160</td>\n",
       "      <td>4</td>\n",
       "      <td>2</td>\n",
       "      <td>2</td>\n",
       "      <td>No</td>\n",
       "      <td>West</td>\n",
       "    </tr>\n",
       "    <tr>\n",
       "      <th>8</th>\n",
       "      <td>9</td>\n",
       "      <td>119200</td>\n",
       "      <td>2110</td>\n",
       "      <td>4</td>\n",
       "      <td>2</td>\n",
       "      <td>3</td>\n",
       "      <td>No</td>\n",
       "      <td>East</td>\n",
       "    </tr>\n",
       "    <tr>\n",
       "      <th>9</th>\n",
       "      <td>10</td>\n",
       "      <td>104000</td>\n",
       "      <td>1730</td>\n",
       "      <td>3</td>\n",
       "      <td>3</td>\n",
       "      <td>3</td>\n",
       "      <td>No</td>\n",
       "      <td>East</td>\n",
       "    </tr>\n",
       "  </tbody>\n",
       "</table>\n",
       "</div>"
      ],
      "text/plain": [
       "   Home   Price  SqFt  Bedrooms  Bathrooms  Offers Brick Neighborhood\n",
       "0     1  114300  1790         2          2       2    No         East\n",
       "1     2  114200  2030         4          2       3    No         East\n",
       "2     3  114800  1740         3          2       1    No         East\n",
       "3     4   94700  1980         3          2       3    No         East\n",
       "4     5  119800  2130         3          3       3    No         East\n",
       "5     6  114600  1780         3          2       2    No        North\n",
       "6     7  151600  1830         3          3       3   Yes         West\n",
       "7     8  150700  2160         4          2       2    No         West\n",
       "8     9  119200  2110         4          2       3    No         East\n",
       "9    10  104000  1730         3          3       3    No         East"
      ]
     },
     "execution_count": 8,
     "metadata": {},
     "output_type": "execute_result"
    }
   ],
   "source": [
    "# Bajamos los datos de una pagina web, utiliando `read_csv` de pandas\n",
    "hp = pd.read_csv('https://raw.githubusercontent.com/anyoneai/notebooks/main/datasets/house-prices.csv')\n",
    "# Le echamos un vistazo con el metodo `head`\n",
    "hp.head(10)\n"
   ]
  },
  {
   "cell_type": "code",
   "execution_count": 9,
   "id": "0e57ec1c",
   "metadata": {},
   "outputs": [
    {
     "name": "stdout",
     "output_type": "stream",
     "text": [
      "Tenemos datos sobre 128 casas\n",
      "El precio promedio es 130427.34375\n",
      "La moda es East\n"
     ]
    }
   ],
   "source": [
    "# que tamano tiene esto?\n",
    "print(f\"Tenemos datos sobre {len(hp)} casas\")\n",
    "# Cual es el precio promedio? utilizamos el metodo mean de pandas. \n",
    "# Recuerden que siempre podemos buscar estos metodos en Goole\n",
    "print(f\"El precio promedio es {hp['Price'].mean()}\")\n",
    "# Cual es la moda? \n",
    "mode = hp['Neighborhood'].mode()[0] # el metodo moda nos da una serie. Asi que accedemos a su primer elemento\n",
    "print(f\"La moda es {mode}\")"
   ]
  },
  {
   "cell_type": "code",
   "execution_count": 10,
   "id": "c83d9285",
   "metadata": {},
   "outputs": [
    {
     "data": {
      "text/plain": [
       "'East'"
      ]
     },
     "execution_count": 10,
     "metadata": {},
     "output_type": "execute_result"
    }
   ],
   "source": [
    "hp['Neighborhood'].mode()[0]"
   ]
  },
  {
   "cell_type": "code",
   "execution_count": 11,
   "id": "be1c5ee3",
   "metadata": {},
   "outputs": [
    {
     "data": {
      "image/png": "[encoded data removed]",
      "text/plain": [
       "<Figure size 432x288 with 1 Axes>"
      ]
     },
     "metadata": {
      "needs_background": "light"
     },
     "output_type": "display_data"
    }
   ],
   "source": [
    "# juguemos con los datos y seaborn\n",
    "fig = sns.countplot(data=hp, x='Neighborhood', palette='Paired')\n",
    "plt.show()\n",
    "# Pueden encontrar mas colores en https://matplotlib.org/stable/tutorials/colors/colormaps.html"
   ]
  },
  {
   "cell_type": "code",
   "execution_count": 12,
   "id": "83942b47",
   "metadata": {},
   "outputs": [
    {
     "data": {
      "image/png": "[encoded data removed]",
      "text/plain": [
       "<Figure size 360x360 with 1 Axes>"
      ]
     },
     "metadata": {
      "needs_background": "light"
     },
     "output_type": "display_data"
    }
   ],
   "source": [
    "# Hagamos un histogrma del precio\n",
    "\n",
    "sns.displot(data=hp, x=\"Price\", kind=\"hist\").set(title='Precios de casas')\n",
    "plt.show()"
   ]
  },
  {
   "cell_type": "code",
   "execution_count": 13,
   "id": "cb6bab2a",
   "metadata": {},
   "outputs": [
    {
     "data": {
      "image/png": "[encoded data removed]",
      "text/plain": [
       "<Figure size 432x288 with 1 Axes>"
      ]
     },
     "metadata": {
      "needs_background": "light"
     },
     "output_type": "display_data"
    }
   ],
   "source": [
    "# Podemos hacer un boxplot, que nos da una idea del rango, de los cuartiles, la mediana, etc. \n",
    "sns.boxplot(data=hp, y='Price')\n",
    "plt.show()"
   ]
  },
  {
   "cell_type": "markdown",
   "id": "8661d1d0",
   "metadata": {},
   "source": [
    "No quiero perder mas el tiempo, ni tentarme con mas ejemplos pero les urjo que jueguen con algunos de las siguientes funciones, que pueden buscarlas en seaborn. Tambien tenemos ejemplos en algunos de los notebooks que subimos en otro lugar del curso:\n",
    "- scatterplot: representa los datos con puntos\n",
    "- violinplot: parecido a histograma, tambien al boxplot. Experimenten\n",
    "- displot: jueguen con el parametro fill=True, y kind=\"kde\"\n",
    "- displot: de vuelta, jueguen con parametro hue= \"pinta\" el grafico segun algun otra columna. Es una forma de incorporar mas informacion en una sola imagen"
   ]
  },
  {
   "cell_type": "code",
   "execution_count": 14,
   "id": "4bdf19e5",
   "metadata": {},
   "outputs": [
    {
     "data": {
      "image/png": "[encoded data removed]",
      "text/plain": [
       "<Figure size 438.25x360 with 1 Axes>"
      ]
     },
     "metadata": {
      "needs_background": "light"
     },
     "output_type": "display_data"
    }
   ],
   "source": [
    "# Bueno, me tente, les muestro el hue\n",
    "sns.displot(data=hp, x=\"Price\", hue=\"Neighborhood\", kind='kde', fill=True)\n",
    "plt.show()"
   ]
  },
  {
   "cell_type": "markdown",
   "id": "b9e8d8b3",
   "metadata": {},
   "source": [
    "# Algebra lineal\n"
   ]
  },
  {
   "cell_type": "markdown",
   "id": "9d62d73a",
   "metadata": {},
   "source": [
    "# Álgebra Lineal en Machine Learning\n",
    "\n",
    "El Álgebra Lineal es una área de las matemáticas que estudia cosas como vectores y matrices. Estos términos pueden sonar un poco abstractos, pero en realidad, son herramientas muy útiles en muchas áreas, incluyendo el Machine Learning.\n",
    "\n",
    "## Importancia del Álgebra Lineal\n",
    "\n",
    "En Machine Learning trabajamos con muchos datos. Estos datos suelen organizarse como matrices, que no son más que tablas de números. El Álgebra Lineal nos da las herramientas para trabajar de manera efectiva con estas tablas de datos.\n",
    "\n",
    "Aquí te presento algunos conceptos clave del Álgebra Lineal en términos sencillos:\n",
    "\n",
    "- **Vectores:** Piensa en un vector como una lista de números. Esta lista puede representar muchas cosas en Machine Learning. Por ejemplo, cada número en la lista podría representar una respuesta a una pregunta sobre un objeto o individuo, y así cada objeto o individuo estaría representado por un vector.\n",
    "\n",
    "- **Matrices:** Las matrices son como tablas de números, o una lista de vectores. Podemos usarlas para organizar nuestros datos. Por ejemplo, podríamos tener una matriz en la que cada fila es un vector que representa a un objeto o individuo.\n",
    "\n",
    "- **Transformaciones lineales:** Este término suena complicado, pero realmente puedes pensar en una transformación lineal como una forma de mover o cambiar vectores de una forma específica. En Machine Learning, a veces queremos cambiar nuestros vectores o matrices de una forma específica para hacer más fácil nuestro trabajo, y eso es cuando utilizamos transformaciones lineales.\n",
    "\n",
    "## Scipy: Un Módulo para Matemáticas y Ciencias\n",
    "\n",
    "Scipy es una biblioteca de Python que nos proporciona funciones y utilidades para matemáticas y ciencias. Contiene módulos para diferentes tipos de tareas matemáticas. En el contexto del Álgebra Lineal, Scipy nos proporciona funciones para trabajar con vectores y matrices de una manera fácil y efectiva.\n"
   ]
  },
  {
   "cell_type": "markdown",
   "id": "986432b8",
   "metadata": {},
   "source": [
    "Para ejemplificar que es un vector, primero simplifiquemos nuestros datos anterior sobre casas. Vamos a representar a una casa con 3 numeros: superficie, dormitorios, y banos. "
   ]
  },
  {
   "cell_type": "code",
   "execution_count": 33,
   "id": "90d690b8",
   "metadata": {},
   "outputs": [
    {
     "name": "stdout",
     "output_type": "stream",
     "text": [
      "recordemos que la cantidad de casas que tenemos representadas es 128\n"
     ]
    },
    {
     "data": {
      "text/html": [
       "<div>\n",
       "<style scoped>\n",
       "    .dataframe tbody tr th:only-of-type {\n",
       "        vertical-align: middle;\n",
       "    }\n",
       "\n",
       "    .dataframe tbody tr th {\n",
       "        vertical-align: top;\n",
       "    }\n",
       "\n",
       "    .dataframe thead th {\n",
       "        text-align: right;\n",
       "    }\n",
       "</style>\n",
       "<table border=\"1\" class=\"dataframe\">\n",
       "  <thead>\n",
       "    <tr style=\"text-align: right;\">\n",
       "      <th></th>\n",
       "      <th>Superficie</th>\n",
       "      <th>Dormitorios</th>\n",
       "      <th>Banos</th>\n",
       "    </tr>\n",
       "  </thead>\n",
       "  <tbody>\n",
       "    <tr>\n",
       "      <th>0</th>\n",
       "      <td>1790</td>\n",
       "      <td>2</td>\n",
       "      <td>2</td>\n",
       "    </tr>\n",
       "    <tr>\n",
       "      <th>1</th>\n",
       "      <td>2030</td>\n",
       "      <td>4</td>\n",
       "      <td>2</td>\n",
       "    </tr>\n",
       "    <tr>\n",
       "      <th>2</th>\n",
       "      <td>1740</td>\n",
       "      <td>3</td>\n",
       "      <td>2</td>\n",
       "    </tr>\n",
       "    <tr>\n",
       "      <th>3</th>\n",
       "      <td>1980</td>\n",
       "      <td>3</td>\n",
       "      <td>2</td>\n",
       "    </tr>\n",
       "    <tr>\n",
       "      <th>4</th>\n",
       "      <td>2130</td>\n",
       "      <td>3</td>\n",
       "      <td>3</td>\n",
       "    </tr>\n",
       "  </tbody>\n",
       "</table>\n",
       "</div>"
      ],
      "text/plain": [
       "   Superficie  Dormitorios  Banos\n",
       "0        1790            2      2\n",
       "1        2030            4      2\n",
       "2        1740            3      2\n",
       "3        1980            3      2\n",
       "4        2130            3      3"
      ]
     },
     "execution_count": 33,
     "metadata": {},
     "output_type": "execute_result"
    }
   ],
   "source": [
    "\n",
    "casas_df = hp[['SqFt','Bedrooms','Bathrooms']]\n",
    "# Pasamos los nombres al castellano, de paso aprendemos una nueva funcion de pandas: rename\n",
    "\n",
    "casas_df = casas_df.rename(columns={'SqFt':\"Superficie\",'Bedrooms':'Dormitorios','Bathrooms':'Banos'})\n",
    "print(f\"recordemos que la cantidad de casas que tenemos representadas es {len(casas_df)}\")\n",
    "# Miramos nuestra base de datos simplificada\n",
    "casas_df.head()"
   ]
  },
  {
   "cell_type": "code",
   "execution_count": 34,
   "id": "f237dbad",
   "metadata": {},
   "outputs": [
    {
     "data": {
      "text/plain": [
       "0      114300\n",
       "1      114200\n",
       "2      114800\n",
       "3       94700\n",
       "4      119800\n",
       "        ...  \n",
       "123    119700\n",
       "124    147900\n",
       "125    113500\n",
       "126    149900\n",
       "127    124600\n",
       "Name: Price, Length: 128, dtype: int64"
      ]
     },
     "execution_count": 34,
     "metadata": {},
     "output_type": "execute_result"
    }
   ],
   "source": [
    "hp['Price']"
   ]
  },
  {
   "cell_type": "markdown",
   "id": "7a883421",
   "metadata": {},
   "source": [
    "Entonces aqui podemos ver un ***vector*** que representa, en este caso a una casa. Por ejemplo el vector `[1790, 2, 2]` representara a la casa 0, y el vector `[2030, 4, 2]` de tamano 3, representara a la casa 1. El conjunto de estos ***vectores*** es una ***matriz*** de dimensiones 128, 2. Esta matriz representa a su conjunto a todas las casas. \n",
    "#### Para que usar vectores y matrices? \n",
    "Nos adelantemos solo un poco en nuestra teoria. Si hay algo que no comprenden, no hay problema, tendremos tiempo de revisar, pero veamos el trailer. \n",
    " Podemos imaginar que el precio de la casa puede estar relacionada a los elementos de estos vectores. Intuitivamente, diriamos que mientras mas superficie, mas subira el precio de nuestra casa. Pasa lo mismo con los banos y dormitorios. \n",
    " Imaginan como intentariamos *predecir* el precio de nuestra casa a partir de estos vectores? \n",
    " \n",
    " Podriamos imaginar una *funcion* para intentar predecir el precio de las casas. Por ahora, obviemos el paso de como llegamos a esta funcion, e imaginemos que pudimos llegar a ella. Por ejemplo: \n",
    " \n",
    " Precio = w1 * Superficie + w2 * Dormitorios + w3 * Banos + Precio_base\n",
    " \n",
    " Donde w1, w2 y w3 son llamados *pesos*.\n",
    " \n",
    " Valores creibles para w1, w2 y w3 podrian ser (por ahora nos limitamos a calcular a \"ojo\") podrian ser :\n",
    " w1 = 6\n",
    " w2 = 3500\n",
    " w3 = 5500\n",
    " Precio_base = 80000\n",
    " \n",
    " Ahora viene el poder de numpy\n",
    " En una sola linea de codigo, y aprovechando la paralelizacion de numpy, podemos calcular simultaneamente todos los precios predichos para las casas"
   ]
  },
  {
   "cell_type": "code",
   "execution_count": 54,
   "id": "0963619d",
   "metadata": {},
   "outputs": [],
   "source": [
    "pesos_optimos = [36, 10460, 13548]\n",
    "precio_base = 1000"
   ]
  },
  {
   "cell_type": "code",
   "execution_count": 41,
   "id": "69f9406f",
   "metadata": {},
   "outputs": [],
   "source": [
    "#### eliminar esto\n",
    "from scipy.optimize import minimize\n",
    "import numpy as np\n",
    "\n",
    "params = [6, 3500, 5500, 80000]\n",
    "actual_prices = np.array(hp['Price'])\n",
    "M = np.array(casas_df)\n",
    "# Assuming M and actual_prices are defined\n",
    "# M is your matrix of features\n",
    "# actual_prices is a vector of actual house prices\n",
    "\n",
    "# Define a function to calculate the difference between predicted and actual prices\n",
    "def price_difference(params):\n",
    "    w = params[:-1]  # weights\n",
    "    b = params[-1]  # bias\n",
    "    predicted_prices = np.dot(M, w) + b\n",
    "    return np.sum((predicted_prices - actual_prices) ** 2)\n",
    "\n",
    "# Initial guess for weights and bias\n",
    "initial_guess = np.zeros(M.shape[1] + 1)\n",
    "\n",
    "# Use scipy's minimize function to find the best weights and bias\n",
    "result = minimize(price_difference, initial_guess)\n",
    "\n",
    "# The optimal weights and bias are stored in result.x\n",
    "optimal_weights = result.x[:-1].round()\n",
    "optimal_bias = result.x[-1].round()"
   ]
  },
  {
   "cell_type": "code",
   "execution_count": 40,
   "id": "371d65e1",
   "metadata": {},
   "outputs": [
    {
     "name": "stdout",
     "output_type": "stream",
     "text": [
      "[   36. 10460. 13548.]\n",
      "-5633.477216411615\n"
     ]
    }
   ],
   "source": [
    "### eliminar esto\n",
    "print(optimal_weights)\n",
    "print(optimal_bias)"
   ]
  },
  {
   "cell_type": "code",
   "execution_count": 55,
   "id": "68679d90",
   "metadata": {},
   "outputs": [
    {
     "data": {
      "text/plain": [
       "array([113456, 143016, 122116, 130756, 149704, 123556, 138904, 147696,\n",
       "       145896, 135304, 132556, 116336, 128236, 150424, 176724, 134016,\n",
       "       151864, 144664, 110216, 142144, 123916, 131476, 120316, 124996,\n",
       "       163044, 165924, 141936, 120676, 106616, 156924, 164484, 118496,\n",
       "       154024, 176024, 121016, 147904, 116696, 170604, 121396, 122116,\n",
       "       105176, 149724, 120656, 128596, 142864, 124636, 134204, 133276,\n",
       "       120296, 120676, 135076, 115976, 139964, 135076, 118876, 110936,\n",
       "       138316, 164124, 139264, 145176, 152224, 106976, 163404, 131324,\n",
       "       126436, 101216, 152584, 156924, 136516, 158364, 143224, 147696,\n",
       "       118876, 146464, 150064, 117416, 128956, 165564, 136156, 134016,\n",
       "       151864, 160524, 122816, 159784, 103736, 164484, 138336, 140704,\n",
       "       142504, 121376, 139056, 136876, 135436, 147904, 160884, 119936,\n",
       "       160864, 121016, 133636, 147904, 131836, 154384, 159784, 171324,\n",
       "       128236, 174564, 136156, 127516, 144664, 135436, 110576, 111656,\n",
       "       118856, 131476, 155844, 141424, 189932, 128596, 129676, 118136,\n",
       "       132044, 142504, 123176, 141424, 161244, 123536, 145744, 154024])"
      ]
     },
     "execution_count": 55,
     "metadata": {},
     "output_type": "execute_result"
    }
   ],
   "source": [
    "# Primero, transformamos los DataFrames (que incluyen cosas como nombres de columnas, etc), a datos \n",
    "# puramente numericos: una matriz de numpy\n",
    "casas_M = np.array(casas_df)\n",
    "# Definimos nuestro vector w de pesos\n",
    "w = np.array(pesos_optimos)\n",
    "# Y nuestro precio base\n",
    "b = precio_base\n",
    "# Ahora podemos calcular todos los precios de casas en dos lineas de codigo: \n",
    "\n",
    "precios_predichos = np.dot(casas_M, w)\n",
    "precios_predichos += precio_base\n",
    "precios_predichos"
   ]
  },
  {
   "cell_type": "markdown",
   "id": "909f40cb",
   "metadata": {},
   "source": [
    "Hemos utilizado la operacion \"producto punto\". Para el que le interese mas, puede ahondar en el tema, pero a lo que respecta este curso, pueden simplemente entenderlo como una forma de realizar la lista de operaciones que dijimos previamente. "
   ]
  },
  {
   "cell_type": "markdown",
   "id": "e2239163",
   "metadata": {},
   "source": [
    "Ahora que tenemos la lista de precios predicha, podriamos compararla con la lista de precios real. Una forma simple es ver \"en promedio\" por cuanto erramos"
   ]
  },
  {
   "cell_type": "code",
   "execution_count": 57,
   "id": "8e8ee19f",
   "metadata": {},
   "outputs": [
    {
     "data": {
      "text/plain": [
       "array([  -844,  28816,   7316,  36056,  29904,   8956, -12696,  -3004,\n",
       "        26696,  31304,     56,  -6664,  25636,  24124,    -76, -11784,\n",
       "         4764,  61064,  -1184, -25056,   7716,  17676,  28616,  18896,\n",
       "         6644,  16624,   4936,  21376,  37516, -31076, -17516,   6196,\n",
       "        19024,  36424,   3216,  30804,   -804,  23604,  -9904,  13916,\n",
       "        -1424,  16124,  15056, -25404, -23636,  21436,   4404,  42976,\n",
       "         4396,  13176, -16024,  24876,  22564,   4276,  37576, -14764,\n",
       "        -2584,  11824,   1164, -10224, -28676,   6076,   2104,  10824,\n",
       "        -3864,  -9884,  26384,   5024,  42916,  -7236, -23476,  -9904,\n",
       "        11576,  20764,   5864,  10516,   -844, -10936,  14856,  -9584,\n",
       "         8464, -23776, -41984,  12084,  13236, -23816,  35636, -31796,\n",
       "        14804,  23576,  -4044,  20376,  -7164,  -9196,    284, -32564,\n",
       "        27564,  -5784, -11864, -23096,  28636,  31284,  22984, -39876,\n",
       "        45936,  27664,  27656,  -6484,  27664,  26736,  -1024,  -3244,\n",
       "        -4744,  15776,  31344,  38924,  -9568,  10796, -20524,   8436,\n",
       "        21644,  36904, -21624,  21724,  13344,  10036,  -4156,  29424])"
      ]
     },
     "execution_count": 57,
     "metadata": {},
     "output_type": "execute_result"
    }
   ],
   "source": [
    "# transformamos los precios reales a numpy\n",
    "precios_reales = np.array(hp['Price'])\n",
    "# simplemente usamos la resta de matrices\n",
    "errores = precios_predichos - precios_reales\n",
    "errores"
   ]
  },
  {
   "cell_type": "code",
   "execution_count": 60,
   "id": "3fc4f251",
   "metadata": {},
   "outputs": [
    {
     "name": "stdout",
     "output_type": "stream",
     "text": [
      "Nuestro error promedio es 7361.0. Hay bastante por mejorar!\n"
     ]
    }
   ],
   "source": [
    "# Y calculamos el error promedio\n",
    "error_promedio = errores.mean().round()\n",
    "print(f'Nuestro error promedio es {error_promedio}. Hay bastante por mejorar!')"
   ]
  },
  {
   "cell_type": "markdown",
   "id": "5123afbb",
   "metadata": {},
   "source": [
    "#### Manipulacion de matrices con scipy\n",
    "Para la manipulacion de matrices hay un modulo de python que es perfecto para todo lo que respecta a la manipulacion de matrices, resolucion de ecuaciones lineales, etc. \n",
    "Algunas de los funciones que pueden ser utiles en scipy son:\n",
    "- `scipy.optimize.minimize:`Esta función se utiliza para encontrar los valores mínimos de una función. Se utiliza en una variedad de aplicaciones, incluyendo la optimización de modelos de machine learning y la resolución de problemas de minimización en general.\n",
    "- `scipy.linalg.solve`:  Esta función se utiliza para resolver sistemas de ecuaciones lineales de la forma Ax = b, donde A es una matriz y b es un vector. Es útil para una variedad de problemas en álgebra lineal.\n",
    "- `scipy.linalg.svd`: Esta función se utiliza para realizar la descomposición de valores singulares (SVD) de una matriz. La SVD es útil en una variedad de aplicaciones, incluyendo la reducción de dimensionalidad y la recomendación de sistemas.\n",
    "- `scipy.linalg.norm` :Esta función se utiliza para calcular la norma (o longitud) de un vector o cualquier matriz. Es útil para una variedad de aplicaciones, incluyendo la normalización de datos y la medición de la distancia entre puntos.\n",
    "\n",
    "Muchas de las funciones aqui, van a ser manejadas a un nivel mas abstracto por otros modulos. Sin embargo, el algebra lineal es la base del machine learning, y para aquel que quiera ahorandar, scipy es una excelente herramienta para entender mas a fondo que hay bajo el capot, o para poner cosas nuevas debajo del capot ...\n",
    " A continuacion, vamos a utilizar un ejemplo para analizar un poco mas la matriz con la que venimos trabajando. \n"
   ]
  },
  {
   "cell_type": "code",
   "execution_count": 62,
   "id": "d2be5985",
   "metadata": {},
   "outputs": [
    {
     "data": {
      "text/plain": [
       "array([1790.00223464, 2030.0049261 , 1740.00373563, 1980.00328283,\n",
       "       2130.00422535, 1780.00365168, 1830.00491803, 2160.00462962,\n",
       "       2110.00473933, 1730.0052023 , 2030.00320197, 1870.00213904,\n",
       "       1910.00340314, 2150.00418604, 2590.00482625, 1780.00561797,\n",
       "       2190.00410959, 1990.00452261, 1700.00235294, 1920.00468749,\n",
       "       1790.00363128, 2000.00325   , 1690.00384615, 1820.00357143,\n",
       "       2210.0056561 , 2290.00545851, 2000.00499999, 1700.00382353,\n",
       "       1600.0025    , 2040.00612744, 2250.00555555, 1930.00207254,\n",
       "       2250.004     , 2280.00745613, 2000.002     , 2080.00432692,\n",
       "       1880.00212766, 2420.00516528, 1720.00377907, 1740.00373563,\n",
       "       1560.0025641 , 1840.00679347, 1990.00201005, 1920.00338541,\n",
       "       1940.00463917, 1810.00359116, 1990.00326633, 2050.00317073,\n",
       "       1980.0020202 , 1700.00382353, 2100.00309524, 1860.00215054,\n",
       "       2150.00302325, 2100.00309524, 1650.00393939, 1720.00232558,\n",
       "       2190.00296803, 2240.00558035, 1840.0048913 , 2090.00478468,\n",
       "       2200.00409091, 1610.00248447, 2220.00563062, 1910.00340314,\n",
       "       1860.00349462, 1450.00275862, 2210.00407239, 2040.00612744,\n",
       "       2140.00303738, 2080.00600961, 1950.00461538, 2160.00462962,\n",
       "       1650.00393939, 2040.00441176, 2140.0042056 , 1900.00210526,\n",
       "       1930.00336787, 2280.00548245, 2130.00305164, 1780.00561797,\n",
       "       2190.00410959, 2140.00584111, 2050.00195122, 2410.00373444,\n",
       "       1520.00263158, 2250.00555555, 1900.00526315, 1880.00478723,\n",
       "       1930.00466321, 2010.00199005, 1920.00520833, 2150.00302325,\n",
       "       2110.00308057, 2080.00432692, 2150.00581395, 1970.00203046,\n",
       "       2440.00368852, 2000.002     , 2060.00315534, 2080.00432692,\n",
       "       2010.00323383, 2260.0039823 , 2410.00373444, 2440.00512295,\n",
       "       1910.00340314, 2530.00494071, 2130.00305164, 1890.00343915,\n",
       "       1990.00452261, 2110.00308057, 1710.00233918, 1740.00229885,\n",
       "       1940.00206185, 2000.00325   , 2010.0062189 , 1900.00473684,\n",
       "       2290.00895195, 1920.00338541, 1950.00333333, 1920.00208333,\n",
       "       1930.00336787, 1930.00466321, 2060.00194175, 1900.00473684,\n",
       "       2160.00578703, 2070.00193237, 2020.00445544, 2250.004     ])"
      ]
     },
     "execution_count": 62,
     "metadata": {},
     "output_type": "execute_result"
    }
   ],
   "source": [
    "from scipy.linalg import norm\n",
    "\n",
    "# Calcular la norma euclideana para cada vector en  in casas_M\n",
    "# La norma euclideana puede ser util, por ejemplo, para ver cuan \"extremos\" son los vectores en \n",
    "# terminos de sus caracteristicas (features)\n",
    "\n",
    "norms = norm(casas_M, axis=1)\n",
    "\n",
    "norms"
   ]
  },
  {
   "cell_type": "code",
   "execution_count": 64,
   "id": "a92db392",
   "metadata": {},
   "outputs": [
    {
     "name": "stdout",
     "output_type": "stream",
     "text": [
      "Indice de casa mas rara: 14\n",
      "Indice de casa mas comun: 65\n"
     ]
    }
   ],
   "source": [
    "# Ahora podemos ver cual es la mas \"diferente y volver a la matriz original, para ver su precio, etc\"\n",
    "\n",
    "# Sacamos el indice de el maximo con argmax()\n",
    "indice_max = norms.argmax()\n",
    "print(f\"Indice de casa mas rara: {indice_max}\")\n",
    "# Tambien el indice del minimo para ver cual es la que mas se ajusta a la norma\n",
    "indice_min= indice_min = norms.argmin()\n",
    "print(f\"Indice de casa mas comun: {indice_min}\")"
   ]
  },
  {
   "cell_type": "code",
   "execution_count": 67,
   "id": "50fd39a3",
   "metadata": {},
   "outputs": [
    {
     "data": {
      "text/plain": [
       "Home                15\n",
       "Price           176800\n",
       "SqFt              2590\n",
       "Bedrooms             4\n",
       "Bathrooms            3\n",
       "Offers               4\n",
       "Brick               No\n",
       "Neighborhood      West\n",
       "Name: 14, dtype: object"
      ]
     },
     "execution_count": 67,
     "metadata": {},
     "output_type": "execute_result"
    }
   ],
   "source": [
    "# Ahora volvemos a la matrix original y les echamos un vistazo\n",
    "# Aprovechamos para introducir a \"iloc\", metodo para extraer valores segun su ubicacion\n",
    "hp.iloc[indice_max]\n"
   ]
  },
  {
   "cell_type": "code",
   "execution_count": 68,
   "id": "8e4dd0bd",
   "metadata": {},
   "outputs": [
    {
     "data": {
      "text/plain": [
       "Home                66\n",
       "Price           111100\n",
       "SqFt              1450\n",
       "Bedrooms             2\n",
       "Bathrooms            2\n",
       "Offers               1\n",
       "Brick              Yes\n",
       "Neighborhood     North\n",
       "Name: 65, dtype: object"
      ]
     },
     "execution_count": 68,
     "metadata": {},
     "output_type": "execute_result"
    }
   ],
   "source": [
    "hp.iloc[indice_min]"
   ]
  },
  {
   "cell_type": "markdown",
   "id": "22b6331a",
   "metadata": {},
   "source": [
    "¯\\\\_(ツ)_/¯"
   ]
  },
  {
   "cell_type": "code",
   "execution_count": null,
   "id": "17d7357d",
   "metadata": {},
   "outputs": [],
   "source": []
  }
 ],
 "metadata": {
  "kernelspec": {
   "display_name": "Python 3 (ipykernel)",
   "language": "python",
   "name": "python3"
  },
  "language_info": {
   "codemirror_mode": {
    "name": "ipython",
    "version": 3
   },
   "file_extension": ".py",
   "mimetype": "text/x-python",
   "name": "python",
   "nbconvert_exporter": "python",
   "pygments_lexer": "ipython3",
   "version": "3.9.7"
  }
 },
 "nbformat": 4,
 "nbformat_minor": 5
}
